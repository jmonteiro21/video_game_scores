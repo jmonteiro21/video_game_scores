{
 "cells": [
  {
   "cell_type": "code",
   "execution_count": 26,
   "id": "bdc7a45b",
   "metadata": {},
   "outputs": [],
   "source": [
    "import pandas as pd\n",
    "import numpy as np\n",
    "import os\n",
    "from sklearn.tree import DecisionTreeClassifier\n",
    "from sklearn.metrics import accuracy_score, precision_score, recall_score\n",
    "from sklearn.model_selection import train_test_split\n",
    "from IPython.display import display\n",
    "import matplotlib.pyplot as plt\n",
    "import seaborn as sns\n",
    "from sklearn.preprocessing import scale\n",
    "from imblearn.over_sampling import RandomOverSampler\n",
    "from sklearn.neighbors import KNeighborsClassifier\n",
    "from sklearn.model_selection import RandomizedSearchCV\n",
    "from sklearn.tree import plot_tree\n",
    "import warnings\n",
    "import random\n",
    "warnings.filterwarnings('ignore')\n",
    "%matplotlib inline"
   ]
  },
  {
   "cell_type": "code",
   "execution_count": 27,
   "id": "bbb2f193",
   "metadata": {
    "scrolled": false
   },
   "outputs": [],
   "source": [
    "os.chdir(r\"C:\\Users\\joaom\\Desktop\\video_games.csv\")# you might have to change this\n",
    "\n",
    "data = pd.read_csv('video_games.csv')"
   ]
  },
  {
   "cell_type": "code",
   "execution_count": 28,
   "id": "4341ac91",
   "metadata": {},
   "outputs": [
    {
     "name": "stdout",
     "output_type": "stream",
     "text": [
      "Total de jogos:5824\n",
      "Total de colunas:14\n",
      "Total de jogos \"bad\":12(0.21%)\n",
      "Total de jogos \"mediocre\":100(1.72%)\n",
      "Total de jogos \"good\":2519(43.25%)\n",
      "Total de jogos \"great\":3193(54.82%)\n"
     ]
    }
   ],
   "source": [
    "games = data.shape[0]\n",
    "features = data.shape[1] - 1 \n",
    "\n",
    "bad_games = len(data[data.user_rating == 'bad'])\n",
    "mediocre_games = len(data[data.user_rating == 'mediocre'])\n",
    "good_games = len(data[data.user_rating == 'good'])\n",
    "great_games = len(data[data.user_rating == 'great'])\n",
    "val = [bad_games, mediocre_games, good_games, great_games]\n",
    "\n",
    "per_bad = (float(bad_games)/games) * 100\n",
    "per_mediocre = (float(mediocre_games)/games) * 100\n",
    "per_good = (float(good_games)/games) * 100\n",
    "per_great = (float(great_games)/games) * 100\n",
    "\n",
    "print(f'Total de jogos:{games}')\n",
    "print(f'Total de colunas:{features}')\n",
    "print(f'Total de jogos \"bad\":{bad_games}({per_bad:.2f}%)')\n",
    "print(f'Total de jogos \"mediocre\":{mediocre_games}({per_mediocre:.2f}%)')\n",
    "print(f'Total de jogos \"good\":{good_games}({per_good:.2f}%)')\n",
    "print(f'Total de jogos \"great\":{great_games}({per_great:.2f}%)')"
   ]
  },
  {
   "cell_type": "code",
   "execution_count": 29,
   "id": "57644822",
   "metadata": {},
   "outputs": [
    {
     "data": {
      "image/png": "[encoded data removed]",
      "text/plain": [
       "<Figure size 432x288 with 1 Axes>"
      ]
     },
     "metadata": {
      "needs_background": "light"
     },
     "output_type": "display_data"
    }
   ],
   "source": [
    "x = np.arange(4)\n",
    "plt.bar(x,val)\n",
    "plt.xticks(x, ('bad', 'mediocre', 'good', 'great'))\n",
    "plt.show()"
   ]
  },
  {
   "cell_type": "code",
   "execution_count": 30,
   "id": "31601de5",
   "metadata": {},
   "outputs": [],
   "source": [
    "num_data = data.drop(['name', 'user_score', 'summary'], 1)\n",
    "\n",
    "num_data.loc[num_data['in_franchise'] == False, 'in_franchise'] = 0\n",
    "num_data.loc[num_data['in_franchise'] == True, 'in_franchise'] = 1\n",
    "\n",
    "categories = ['main_game', 'expansion', 'expanded_game', 'dlc_addon', 'bundle', 'remake', 'remaster', 'port', 'standalone_expansion', 'episode', 'mod', 'fork', 'season']\n",
    "i = 1\n",
    "for cat in categories:\n",
    "    num_data.loc[num_data['category'] == cat, 'category'] = i\n",
    "    i += 1\n",
    "    \n",
    "ratings = ['bad', 'mediocre', 'good', 'great']\n",
    "i = 1\n",
    "for rate in ratings:\n",
    "    num_data.loc[num_data['user_rating'] == rate, 'user_rating'] = i\n",
    "    i += 1"
   ]
  },
  {
   "cell_type": "code",
   "execution_count": 32,
   "id": "3aa465d9",
   "metadata": {
    "scrolled": false
   },
   "outputs": [],
   "source": [
    "genres = data['genres'].unique()\n",
    "\n",
    "i = 0\n",
    "genres_text = ''\n",
    "for genre in genres:\n",
    "    genres_text += f'{genre}, '\n",
    "\n",
    "genres_full = genres_text.split(\", \")    \n",
    "    \n",
    "genres_final = []\n",
    "\n",
    "for genre in genres_full:\n",
    "    if genre not in genres_final:\n",
    "        genres_final.append(genre)\n",
    "        \n",
    "genres_final = genres_final[:22] + genres_final[23:]\n",
    "genres_final[23] = 'Unknown'    "
   ]
  },
  {
   "cell_type": "code",
   "execution_count": 34,
   "id": "cf01aab2",
   "metadata": {
    "scrolled": false
   },
   "outputs": [
    {
     "name": "stdout",
     "output_type": "stream",
     "text": [
      "Shooter\n",
      "Adventure\n",
      "Role-playing (RPG)\n",
      "Platform\n",
      "Puzzle\n",
      "Racing\n",
      "Simulator\n",
      "Hack and slash/Beat 'em up\n",
      "Arcade\n",
      "Point-and-click\n",
      "Turn-based strategy (TBS)\n",
      "Indie\n",
      "Strategy\n",
      "Real Time Strategy (RTS)\n",
      "Fighting\n",
      "Tactical\n",
      "Sport\n",
      "MOBA\n",
      "Card & Board Game\n",
      "Visual Novel\n",
      "Music\n",
      "Pinball\n",
      "Quiz/Trivia\n",
      "Unknown\n"
     ]
    }
   ],
   "source": [
    "i = 0\n",
    "test = pd.isna(num_data['genres']) == True\n",
    "num_data.loc[test, 'genres'] = 'Unknown'\n",
    "\n",
    "for genre in genres_final:\n",
    "    num_data[genre] = 0\n",
    "    for i in range (num_data.shape[0]):\n",
    "        if genre in num_data['genres'][i]:\n",
    "            num_data[genre][i] = 1          \n",
    "        i += 1"
   ]
  },
  {
   "cell_type": "code",
   "execution_count": 35,
   "id": "2ca9fb5f",
   "metadata": {},
   "outputs": [],
   "source": [
    "platforms = data['platforms'].unique()\n",
    "\n",
    "i = 0\n",
    "platforms_text = ''\n",
    "for platform in platforms:\n",
    "    platforms_text += f'{platform}, '\n",
    "\n",
    "platforms_full = platforms_text.split(\", \")    \n",
    "    \n",
    "platforms_final = []\n",
    "\n",
    "for platform in platforms_full:\n",
    "    if platform not in platforms_final:\n",
    "        platforms_final.append(platform)\n",
    "                      \n",
    "platforms_final = ['PC (Microsoft Windows)', 'PlayStation 3', 'Xbox 360', 'PlayStation 4', 'Xbox One', 'PlayStation 5', 'Xbox Series X|S', 'Nintendo Switch', 'Linux', 'Mac', 'Android', 'PlayStation 2', 'Xbox', 'iOS', 'Wii U', 'Nintendo 64', 'Wii', 'PlayStation Vita',  'Nintendo DSi', 'SteamVR', 'PlayStation VR', 'Oculus Rift', 'Nintendo DS']            "
   ]
  },
  {
   "cell_type": "code",
   "execution_count": 36,
   "id": "a24a619a",
   "metadata": {},
   "outputs": [
    {
     "name": "stdout",
     "output_type": "stream",
     "text": [
      "PC (Microsoft Windows)\n",
      "PlayStation 3\n",
      "Xbox 360\n",
      "PlayStation 4\n",
      "Xbox One\n",
      "PlayStation 5\n",
      "Xbox Series X|S\n",
      "Nintendo Switch\n",
      "Linux\n",
      "Mac\n",
      "Android\n",
      "PlayStation 2\n",
      "Xbox\n",
      "iOS\n",
      "Wii U\n",
      "Nintendo 64\n",
      "Wii\n",
      "PlayStation Vita\n",
      "Nintendo DSi\n",
      "SteamVR\n",
      "PlayStation VR\n",
      "Oculus Rift\n",
      "Nintendo DS\n"
     ]
    }
   ],
   "source": [
    "i = 0\n",
    "\n",
    "test = pd.isna(num_data['platforms']) == True\n",
    "num_data.loc[test, 'platforms'] = 'Unknown'\n",
    "\n",
    "\n",
    "\n",
    "for platform in platforms_final:\n",
    "    num_data[platform] = 0\n",
    "    for i in range (num_data.shape[0]):\n",
    "        if platform in num_data['platforms'][i]:\n",
    "            num_data[platform][i] = 1          \n",
    "        i += 1"
   ]
  },
  {
   "cell_type": "code",
   "execution_count": 37,
   "id": "ba824df2",
   "metadata": {
    "scrolled": true
   },
   "outputs": [
    {
     "name": "stdout",
     "output_type": "stream",
     "text": [
      "3358\n"
     ]
    }
   ],
   "source": [
    "companies = data['companies'].unique()\n",
    "\n",
    "i = 0\n",
    "companies_text = ''\n",
    "for companie in companies:\n",
    "    companies_text += f'{companie}, '\n",
    "\n",
    "companies_full = companies_text.split(\", \")    \n",
    "    \n",
    "companies_final = []\n",
    "\n",
    "for companie in companies_full:\n",
    "    if companie not in companies_final:\n",
    "        companies_final.append(companie)\n",
    "        \n",
    "print(len(companies_final))    "
   ]
  },
  {
   "cell_type": "code",
   "execution_count": 42,
   "id": "eea8a481",
   "metadata": {},
   "outputs": [],
   "source": [
    "os.chdir(r\"C:\\Users\\joaom\\Desktop\") # you might have to change this\n",
    "num_data = pd.read_csv('num_data.csv')"
   ]
  },
  {
   "cell_type": "code",
   "execution_count": 60,
   "id": "cd44cc3e",
   "metadata": {},
   "outputs": [
    {
     "name": "stdout",
     "output_type": "stream",
     "text": [
      "Features\n",
      "      category  n_dlcs  n_expansions  year  follows  in_franchise  \\\n",
      "0            1       0             0  2013     1766             1   \n",
      "1            1       4             2  2015     1516             1   \n",
      "2            1       3             0  2011     1046             0   \n",
      "3            1       3             0  2011      963             1   \n",
      "4            1       0             0  2007      894             1   \n",
      "...        ...     ...           ...   ...      ...           ...   \n",
      "5819         1       0             0  2005        5             0   \n",
      "5820         1       0             0  2001       11             0   \n",
      "5821         1       0             0  2003        1             0   \n",
      "5822         2       0             0  2006        8             1   \n",
      "5823         2       0             0  2002        5             1   \n",
      "\n",
      "      n_user_reviews  Shooter  Adventure  Role-playing (RPG)  ...  iOS  Wii U  \\\n",
      "0               3369        1          1                   0  ...    0      0   \n",
      "1               2997        0          1                   1  ...    0      0   \n",
      "2               2567        0          1                   1  ...    0      0   \n",
      "3               2544        1          1                   0  ...    0      0   \n",
      "4               2297        1          0                   0  ...    0      0   \n",
      "...              ...      ...        ...                 ...  ...  ...    ...   \n",
      "5819              11        0          0                   1  ...    0      0   \n",
      "5820              11        0          0                   0  ...    0      0   \n",
      "5821              11        0          0                   0  ...    0      0   \n",
      "5822              11        1          0                   0  ...    0      0   \n",
      "5823              11        0          0                   0  ...    0      0   \n",
      "\n",
      "      Nintendo 64  Wii  PlayStation Vita  Nintendo DSi  SteamVR  \\\n",
      "0               0    0                 0             0        0   \n",
      "1               0    0                 0             0        0   \n",
      "2               0    0                 0             0        0   \n",
      "3               0    0                 0             0        0   \n",
      "4               0    0                 0             0        0   \n",
      "...           ...  ...               ...           ...      ...   \n",
      "5819            0    0                 0             0        0   \n",
      "5820            0    0                 0             0        0   \n",
      "5821            0    0                 0             0        0   \n",
      "5822            0    0                 0             0        0   \n",
      "5823            0    0                 0             0        0   \n",
      "\n",
      "      PlayStation VR  Oculus Rift  Nintendo DS  \n",
      "0                  0            0            0  \n",
      "1                  0            0            0  \n",
      "2                  0            0            0  \n",
      "3                  0            0            0  \n",
      "4                  0            0            0  \n",
      "...              ...          ...          ...  \n",
      "5819               0            0            0  \n",
      "5820               0            0            0  \n",
      "5821               0            0            0  \n",
      "5822               0            0            0  \n",
      "5823               0            0            0  \n",
      "\n",
      "[5824 rows x 54 columns]\n",
      "\n",
      "\n",
      "\n",
      "\n",
      "Labels\n",
      "0       4\n",
      "1       4\n",
      "2       4\n",
      "3       4\n",
      "4       4\n",
      "       ..\n",
      "5819    4\n",
      "5820    4\n",
      "5821    3\n",
      "5822    3\n",
      "5823    4\n",
      "Name: user_rating, Length: 5824, dtype: int64\n"
     ]
    }
   ],
   "source": [
    "#Separar as features das labels\n",
    "features = num_data.drop(['id','user_rating', 'genres', 'platforms', 'companies'], 1)\n",
    "\n",
    "labels = num_data['user_rating']\n",
    "\n",
    "print('Features')\n",
    "print(features_scale)\n",
    "\n",
    "print(\"\\n\\n\\n\\nLabels\")\n",
    "print(labels)"
   ]
  },
  {
   "cell_type": "code",
   "execution_count": 62,
   "id": "c602a784",
   "metadata": {},
   "outputs": [
    {
     "name": "stdout",
     "output_type": "stream",
     "text": [
      "3376 3376\n",
      "1448 1448\n",
      "4    1935\n",
      "3    1398\n",
      "2      40\n",
      "1       3\n",
      "Name: user_rating, dtype: int64\n"
     ]
    }
   ],
   "source": [
    "X = features[:4824]\n",
    "y = labels[:4824]\n",
    "y = y.astype('int')\n",
    "total_left = 1000\n",
    "\n",
    "X_train, X_test, y_train, y_test = train_test_split(X, y, test_size = 0.3, random_state = 123)\n",
    "\n",
    "print(len(X_train), len(y_train))\n",
    "print(len(X_test), len(y_test))\n",
    "print(y_train.value_counts())"
   ]
  },
  {
   "cell_type": "code",
   "execution_count": 95,
   "id": "9d63af2b",
   "metadata": {},
   "outputs": [
    {
     "name": "stdout",
     "output_type": "stream",
     "text": [
      "Decision Tree\n",
      "Accuracy:0.6153\n",
      "DecisionTreeClassifier(random_state=0)\n"
     ]
    }
   ],
   "source": [
    "print('Decision Tree')\n",
    "\n",
    "clf_DT = DecisionTreeClassifier(random_state=0)\n",
    "clf_DT.fit(X_train, y_train)\n",
    "pred = clf_DT.predict(X_test)\n",
    "\n",
    "accuracy = accuracy_score(y_test, pred)\n",
    "print(f\"Accuracy:{accuracy:.4f}\")\n",
    "print(clf_DT)"
   ]
  },
  {
   "cell_type": "code",
   "execution_count": 96,
   "id": "6121b036",
   "metadata": {
    "scrolled": false
   },
   "outputs": [
    {
     "name": "stdout",
     "output_type": "stream",
     "text": [
      "Decision Tree\n",
      "Accuracy:0.6195\n",
      "DecisionTreeClassifier(max_depth=100, min_samples_leaf=5, min_samples_split=4,\n",
      "                       random_state=0)\n"
     ]
    }
   ],
   "source": [
    "print('Decision Tree')\n",
    "\n",
    "param_grid = {\n",
    "    'max_depth': [80, 90, 100, 110],\n",
    "    'min_samples_leaf': [3, 4, 5],\n",
    "    'min_samples_split': [2,4,6,8,10],\n",
    "    \n",
    "}\n",
    "\n",
    "search = RandomizedSearchCV(DecisionTreeClassifier(random_state=0), param_grid) \n",
    "\n",
    "search.fit(X_train, y_train)\n",
    "clf_DTH = search.best_estimator_\n",
    "pred = clf_DTH.predict(X_test)\n",
    "accuracy = accuracy_score(y_test, pred)\n",
    "\n",
    "print(f\"Accuracy:{accuracy:.4f}\")\n",
    "print(clf_DTH)"
   ]
  },
  {
   "cell_type": "code",
   "execution_count": 97,
   "id": "6673aed1",
   "metadata": {},
   "outputs": [],
   "source": [
    "prevision = features_scale[4824:]\n",
    "\n",
    "game_id_full = data['id']\n",
    "game_id = game_id_full[4824:]\n",
    "\n",
    "user_rating_full = num_data['user_rating']\n",
    "user_rating = user_rating_full[4824:]\n",
    "\n",
    "pred_DTH = clf_DTH.predict(prevision)\n",
    "\n",
    "df_DTH = pd.DataFrame({'real': user_rating, 'prevision': pred_DTH, 'game_id': game_id})\n",
    "\n",
    "for i in range(1,5):\n",
    "    df_DTH.loc[df_DTH['real'] == i, 'real'] = ratings[i-1]\n",
    "\n",
    "for i in range(1,5):\n",
    "    df_DTH.loc[df_DTH['prevision'] == i, 'prevision'] = ratings[i-1]"
   ]
  },
  {
   "cell_type": "code",
   "execution_count": 98,
   "id": "895684e8",
   "metadata": {
    "scrolled": false
   },
   "outputs": [
    {
     "name": "stdout",
     "output_type": "stream",
     "text": [
      "Accuracy:0.5420\n"
     ]
    },
    {
     "data": {
      "image/png": "[encoded data removed]",
      "text/plain": [
       "<Figure size 432x288 with 2 Axes>"
      ]
     },
     "metadata": {
      "needs_background": "light"
     },
     "output_type": "display_data"
    }
   ],
   "source": [
    "df = pd.DataFrame(df_DTH, columns=['real', 'prevision'])\n",
    "cf_matrix = pd.crosstab(df['real'], df['prevision'], rownames=['real'], colnames=['prevision'])\n",
    "sns.heatmap(cf_matrix, annot=True, cmap='Blues', fmt=\"d\")\n",
    "accuracy = float(0)\n",
    "for rate in list(cf_matrix):   \n",
    "    accuracy += cf_matrix[rate][rate]\n",
    "accuracy = accuracy / total_left\n",
    "\n",
    "print(f'Accuracy:{accuracy:.4f}')"
   ]
  },
  {
   "cell_type": "code",
   "execution_count": 99,
   "id": "c56353f4",
   "metadata": {},
   "outputs": [
    {
     "name": "stdout",
     "output_type": "stream",
     "text": [
      "KNN\n",
      "Accuracy:0.6326\n"
     ]
    }
   ],
   "source": [
    "\n",
    "print('KNN')\n",
    "\n",
    "clf_KNN = KNeighborsClassifier()\n",
    "clf_KNN.fit(X_train, y_train)\n",
    "pred = clf_KNN.predict(X_test)\n",
    "\n",
    "accuracy = accuracy_score(y_test, pred)\n",
    "\n",
    "print(f\"Accuracy:{accuracy:.4f}\")"
   ]
  },
  {
   "cell_type": "code",
   "execution_count": 100,
   "id": "e6f30b83",
   "metadata": {
    "scrolled": false
   },
   "outputs": [
    {
     "name": "stdout",
     "output_type": "stream",
     "text": [
      "KNN\n",
      "Accuracy:0.6367\n",
      "KNeighborsClassifier(leaf_size=20, p=1)\n"
     ]
    }
   ],
   "source": [
    "#KNN hyper parameters\n",
    "\n",
    "print('KNN')\n",
    "\n",
    "param_grid = {\n",
    "    'n_neighbors': [3, 4, 5, 6],\n",
    "    'leaf_size': [20, 30, 40, 50],\n",
    "    'p': [1, 2, 3]   \n",
    "}\n",
    "\n",
    "search = RandomizedSearchCV(KNeighborsClassifier(), param_grid, n_jobs = 1) \n",
    "search.fit(X_train, y_train)\n",
    "clf_KNNH = search.best_estimator_\n",
    "pred = clf_KNNH.predict(X_test)\n",
    "accuracy = accuracy_score(y_test, pred)\n",
    "\n",
    "print(f\"Accuracy:{accuracy:.4f}\")\n",
    "print(clf_KNNH)"
   ]
  },
  {
   "cell_type": "code",
   "execution_count": 101,
   "id": "e75e4867",
   "metadata": {},
   "outputs": [],
   "source": [
    "#KNN prevision\n",
    "\n",
    "prevision = features_scale[4824:]\n",
    "\n",
    "game_id_full = data['id']\n",
    "game_id = game_id_full[4824:]\n",
    "\n",
    "user_rating_full = num_data['user_rating']\n",
    "user_rating = user_rating_full[4824:]\n",
    "\n",
    "pred_KNNH = clf_KNNH.predict(prevision)\n",
    "\n",
    "df_KNNH = pd.DataFrame({'real': user_rating, 'prevision': pred_KNNH, 'game_id': game_id})\n",
    "\n",
    "ratings = ['bad', 'mediocre', 'good', 'great']\n",
    "for i in range(1,5):\n",
    "    df_KNNH.loc[df_KNNH['real'] == i, 'real'] = ratings[i-1]\n",
    "\n",
    "for i in range(1,5):\n",
    "    df_KNNH.loc[df_KNNH['prevision'] == i, 'prevision'] = ratings[i-1]"
   ]
  },
  {
   "cell_type": "code",
   "execution_count": 102,
   "id": "6d95de16",
   "metadata": {},
   "outputs": [
    {
     "name": "stdout",
     "output_type": "stream",
     "text": [
      "KNN\n",
      "Accuracy:0.55\n"
     ]
    },
    {
     "data": {
      "image/png": "[encoded data removed]",
      "text/plain": [
       "<Figure size 432x288 with 2 Axes>"
      ]
     },
     "metadata": {
      "needs_background": "light"
     },
     "output_type": "display_data"
    }
   ],
   "source": [
    "#KNN confusion matrix\n",
    "\n",
    "df = pd.DataFrame(df_KNNH, columns=['real', 'prevision'])\n",
    "cf_matrix = pd.crosstab(df['real'], df['prevision'], rownames=['real'], colnames=['prevision'])\n",
    "sns.heatmap(cf_matrix, annot=True, cmap='Blues', fmt=\"d\")\n",
    "\n",
    "accuracy = float(0)\n",
    "for rate in list(cf_matrix):   \n",
    "    accuracy += cf_matrix[rate][rate]\n",
    "accuracy = accuracy / total_left\n",
    "print('KNN')\n",
    "print(f'Accuracy:{accuracy}')"
   ]
  },
  {
   "cell_type": "code",
   "execution_count": 103,
   "id": "7a328cad",
   "metadata": {},
   "outputs": [],
   "source": [
    "#Random prevision\n",
    "\n",
    "game_id_full = data['id']\n",
    "game_id = game_id_full[4824:] \n",
    "\n",
    "user_rating_full = num_data['user_rating']\n",
    "user_rating = user_rating_full[4824:]\n",
    "\n",
    "df_RND = pd.DataFrame({'real': user_rating, 'prevision': 0})\n",
    "\n",
    "for i in range(df_RND.shape[0]+1):\n",
    "    num = random.randint(1, 10000)\n",
    "    if num <= 21:\n",
    "        df_RND['prevision'][i+4823] = 1 \n",
    "    elif num <= 172+21:\n",
    "        df_RND['prevision'][i+4823] = 2\n",
    "    elif num <= 4325+172+21:\n",
    "        df_RND['prevision'][i+4823] = 3\n",
    "    elif num <= 5482+4325+172+21:\n",
    "        df_RND['prevision'][i+4823] = 4\n",
    "        \n",
    "ratings = ['bad', 'mediocre', 'good', 'great']\n",
    "for i in range(1,5):\n",
    "    df_RND.loc[df_RND['real'] == i, 'real'] = ratings[i-1]\n",
    "\n",
    "for i in range(1,5):\n",
    "    df_RND.loc[df_RND['prevision'] == i, 'prevision'] = ratings[i-1]"
   ]
  },
  {
   "cell_type": "code",
   "execution_count": 104,
   "id": "d3f18666",
   "metadata": {
    "scrolled": true
   },
   "outputs": [
    {
     "name": "stdout",
     "output_type": "stream",
     "text": [
      "Accuracy:0.472\n"
     ]
    },
    {
     "data": {
      "image/png": "[encoded data removed]",
      "text/plain": [
       "<Figure size 432x288 with 2 Axes>"
      ]
     },
     "metadata": {
      "needs_background": "light"
     },
     "output_type": "display_data"
    }
   ],
   "source": [
    "df = pd.DataFrame(df_RND, columns=['real', 'prevision'])\n",
    "cf_matrix = pd.crosstab(df['real'], df['prevision'], rownames=['real'], colnames=['prevision'])\n",
    "sns.heatmap(cf_matrix, annot=True, cmap='Blues', fmt=\"d\")\n",
    "\n",
    "accuracy = float(0)\n",
    "for rate in list(cf_matrix):  \n",
    "    accuracy += cf_matrix[rate][rate]\n",
    "accuracy = accuracy / total_left\n",
    "print(f'Accuracy:{accuracy}')"
   ]
  },
  {
   "cell_type": "code",
   "execution_count": null,
   "id": "7232e828",
   "metadata": {},
   "outputs": [],
   "source": []
  }
 ],
 "metadata": {
  "kernelspec": {
   "display_name": "Python 3 (ipykernel)",
   "language": "python",
   "name": "python3"
  },
  "language_info": {
   "codemirror_mode": {
    "name": "ipython",
    "version": 3
   },
   "file_extension": ".py",
   "mimetype": "text/x-python",
   "name": "python",
   "nbconvert_exporter": "python",
   "pygments_lexer": "ipython3",
   "version": "3.9.7"
  }
 },
 "nbformat": 4,
 "nbformat_minor": 5
}
